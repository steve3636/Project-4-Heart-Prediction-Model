{
 "cells": [
  {
   "cell_type": "code",
   "execution_count": 1,
   "id": "d9beac36-4154-4e57-a649-eae0ad1cc86e",
   "metadata": {
    "tags": []
   },
   "outputs": [],
   "source": [
    "import pandas as pd\n",
    "# File paths\n",
    "lifestyle_factors_file = \"lifestyle_factors.csv\"\n",
    "medical_indicators_file = \"medical_indicators.csv\"\n",
    "demographic_influences_file = \"demographic_influences.csv\"\n",
    "\n",
    "# Read CSV files into DataFrames\n",
    "lifestyle_factors = pd.read_csv(lifestyle_factors_file)\n",
    "medical_indicators = pd.read_csv(medical_indicators_file)\n",
    "demographic_influences = pd.read_csv(demographic_influences_file)\n"
   ]
  },
  {
   "cell_type": "code",
   "execution_count": 2,
   "id": "defb2e75-a6f4-4cab-91f9-65e68fce4aee",
   "metadata": {},
   "outputs": [
    {
     "name": "stdout",
     "output_type": "stream",
     "text": [
      "<class 'pandas.core.frame.DataFrame'>\n",
      "RangeIndex: 8763 entries, 0 to 8762\n",
      "Data columns (total 10 columns):\n",
      " #   Column                           Non-Null Count  Dtype  \n",
      "---  ------                           --------------  -----  \n",
      " 0   Smoking                          8763 non-null   int64  \n",
      " 1   Alcohol Consumption              8763 non-null   int64  \n",
      " 2   Exercise Hours Per Week          8763 non-null   float64\n",
      " 3   Diet                             8763 non-null   object \n",
      " 4   Stress Level                     8763 non-null   int64  \n",
      " 5   Sedentary Hours Per Day          8763 non-null   float64\n",
      " 6   BMI                              8763 non-null   float64\n",
      " 7   Physical Activity Days Per Week  8763 non-null   int64  \n",
      " 8   Sleep Hours Per Day              8763 non-null   int64  \n",
      " 9   Heart Attack Risk                8763 non-null   int64  \n",
      "dtypes: float64(3), int64(6), object(1)\n",
      "memory usage: 684.7+ KB\n"
     ]
    }
   ],
   "source": [
    " lifestyle_factors.info()"
   ]
  },
  {
   "cell_type": "code",
   "execution_count": 3,
   "id": "546cd13f-e4fb-4ae2-ae6f-51d75c5b9195",
   "metadata": {
    "tags": []
   },
   "outputs": [
    {
     "name": "stdout",
     "output_type": "stream",
     "text": [
      "int64\n"
     ]
    }
   ],
   "source": [
    "# Read the CSV file into a DataFrame\n",
    "lifestyle_factors = pd.read_csv(\"lifestyle_factors.csv\")\n",
    "\n",
    "# Mapping categorical values to integers\n",
    "diet_mapping = {'Healthy': 3, 'Average': 1, 'Unhealthy': 2}\n",
    "\n",
    "# Convert 'Diet' column to int64 using map and replace method, handling missing values\n",
    "lifestyle_factors['Diet'] = lifestyle_factors['Diet'].map(diet_mapping).fillna(lifestyle_factors['Diet'])\n",
    "\n",
    "# Check the data type after conversion\n",
    "print(lifestyle_factors['Diet'].dtype)\n",
    "\n",
    "# Save the updated DataFrame back to a CSV file\n",
    "lifestyle_factors.to_csv(\"updated_lifestyle_factors.csv\", index=False)\n",
    "\n"
   ]
  },
  {
   "cell_type": "code",
   "execution_count": 4,
   "id": "41b6a886-3dff-4a87-879c-5a30f28e3e34",
   "metadata": {
    "tags": []
   },
   "outputs": [
    {
     "data": {
      "text/html": [
       "<div>\n",
       "<style scoped>\n",
       "    .dataframe tbody tr th:only-of-type {\n",
       "        vertical-align: middle;\n",
       "    }\n",
       "\n",
       "    .dataframe tbody tr th {\n",
       "        vertical-align: top;\n",
       "    }\n",
       "\n",
       "    .dataframe thead th {\n",
       "        text-align: right;\n",
       "    }\n",
       "</style>\n",
       "<table border=\"1\" class=\"dataframe\">\n",
       "  <thead>\n",
       "    <tr style=\"text-align: right;\">\n",
       "      <th></th>\n",
       "      <th>Smoking</th>\n",
       "      <th>Alcohol Consumption</th>\n",
       "      <th>Exercise Hours Per Week</th>\n",
       "      <th>Diet</th>\n",
       "      <th>Stress Level</th>\n",
       "      <th>Sedentary Hours Per Day</th>\n",
       "      <th>BMI</th>\n",
       "      <th>Physical Activity Days Per Week</th>\n",
       "      <th>Sleep Hours Per Day</th>\n",
       "      <th>Heart Attack Risk</th>\n",
       "    </tr>\n",
       "  </thead>\n",
       "  <tbody>\n",
       "    <tr>\n",
       "      <th>0</th>\n",
       "      <td>1</td>\n",
       "      <td>0</td>\n",
       "      <td>4.168189</td>\n",
       "      <td>1</td>\n",
       "      <td>9</td>\n",
       "      <td>6.615001</td>\n",
       "      <td>31.251233</td>\n",
       "      <td>0</td>\n",
       "      <td>6</td>\n",
       "      <td>0</td>\n",
       "    </tr>\n",
       "    <tr>\n",
       "      <th>1</th>\n",
       "      <td>1</td>\n",
       "      <td>1</td>\n",
       "      <td>1.813242</td>\n",
       "      <td>2</td>\n",
       "      <td>1</td>\n",
       "      <td>4.963459</td>\n",
       "      <td>27.194973</td>\n",
       "      <td>1</td>\n",
       "      <td>7</td>\n",
       "      <td>0</td>\n",
       "    </tr>\n",
       "    <tr>\n",
       "      <th>2</th>\n",
       "      <td>0</td>\n",
       "      <td>0</td>\n",
       "      <td>2.078353</td>\n",
       "      <td>3</td>\n",
       "      <td>9</td>\n",
       "      <td>9.463426</td>\n",
       "      <td>28.176571</td>\n",
       "      <td>4</td>\n",
       "      <td>4</td>\n",
       "      <td>0</td>\n",
       "    </tr>\n",
       "    <tr>\n",
       "      <th>3</th>\n",
       "      <td>1</td>\n",
       "      <td>1</td>\n",
       "      <td>9.828130</td>\n",
       "      <td>1</td>\n",
       "      <td>9</td>\n",
       "      <td>7.648981</td>\n",
       "      <td>36.464704</td>\n",
       "      <td>3</td>\n",
       "      <td>4</td>\n",
       "      <td>0</td>\n",
       "    </tr>\n",
       "    <tr>\n",
       "      <th>4</th>\n",
       "      <td>1</td>\n",
       "      <td>0</td>\n",
       "      <td>5.804299</td>\n",
       "      <td>2</td>\n",
       "      <td>6</td>\n",
       "      <td>1.514821</td>\n",
       "      <td>21.809144</td>\n",
       "      <td>1</td>\n",
       "      <td>5</td>\n",
       "      <td>0</td>\n",
       "    </tr>\n",
       "  </tbody>\n",
       "</table>\n",
       "</div>"
      ],
      "text/plain": [
       "   Smoking  Alcohol Consumption  Exercise Hours Per Week  Diet  Stress Level  \\\n",
       "0        1                    0                 4.168189     1             9   \n",
       "1        1                    1                 1.813242     2             1   \n",
       "2        0                    0                 2.078353     3             9   \n",
       "3        1                    1                 9.828130     1             9   \n",
       "4        1                    0                 5.804299     2             6   \n",
       "\n",
       "   Sedentary Hours Per Day        BMI  Physical Activity Days Per Week  \\\n",
       "0                 6.615001  31.251233                                0   \n",
       "1                 4.963459  27.194973                                1   \n",
       "2                 9.463426  28.176571                                4   \n",
       "3                 7.648981  36.464704                                3   \n",
       "4                 1.514821  21.809144                                1   \n",
       "\n",
       "   Sleep Hours Per Day  Heart Attack Risk  \n",
       "0                    6                  0  \n",
       "1                    7                  0  \n",
       "2                    4                  0  \n",
       "3                    4                  0  \n",
       "4                    5                  0  "
      ]
     },
     "execution_count": 4,
     "metadata": {},
     "output_type": "execute_result"
    }
   ],
   "source": [
    "lifestyle_factors.head()\n"
   ]
  },
  {
   "cell_type": "markdown",
   "id": "7d0c11f9-a65d-4a88-b933-92cd6953333a",
   "metadata": {},
   "source": [
    "### Life style Analysis\n"
   ]
  },
  {
   "cell_type": "markdown",
   "id": "b877bbf9-5c70-48f4-b959-8fe90d593274",
   "metadata": {},
   "source": [
    "##### Random Forest Classifier"
   ]
  },
  {
   "cell_type": "code",
   "execution_count": 5,
   "id": "72288221-a175-41db-acd7-ef201c3c6e7b",
   "metadata": {
    "tags": []
   },
   "outputs": [
    {
     "name": "stdout",
     "output_type": "stream",
     "text": [
      "Confusion Matrix:\n",
      "[[1035   90]\n",
      " [ 583   45]]\n",
      "\n",
      "Classification Report:\n",
      "              precision    recall  f1-score   support\n",
      "\n",
      "           0       0.64      0.92      0.75      1125\n",
      "           1       0.33      0.07      0.12       628\n",
      "\n",
      "    accuracy                           0.62      1753\n",
      "   macro avg       0.49      0.50      0.44      1753\n",
      "weighted avg       0.53      0.62      0.53      1753\n",
      "\n"
     ]
    }
   ],
   "source": [
    "from sklearn.model_selection import train_test_split\n",
    "from sklearn.ensemble import RandomForestClassifier\n",
    "from sklearn.metrics import confusion_matrix, classification_report\n",
    "import pandas as pd\n",
    "\n",
    "# Load the dataset\n",
    "lifestyle_factors_file = \"updated_lifestyle_factors.csv\"\n",
    "lifestyle_factors = pd.read_csv(lifestyle_factors_file)\n",
    "\n",
    "# Define features and target variable\n",
    "X = lifestyle_factors.drop('Heart Attack Risk', axis=1)\n",
    "y = lifestyle_factors['Heart Attack Risk']\n",
    "\n",
    "# Split the data into training and testing sets\n",
    "X_train, X_test, y_train, y_test = train_test_split(X, y, test_size=0.2, random_state=42)\n",
    "\n",
    "# Initialize Random Forest Classifier\n",
    "rf_classifier = RandomForestClassifier(random_state=42)\n",
    "\n",
    "# Train the classifier\n",
    "rf_classifier.fit(X_train, y_train)\n",
    "\n",
    "# Predict on the test set\n",
    "y_pred = rf_classifier.predict(X_test)\n",
    "\n",
    "# Confusion matrix\n",
    "conf_matrix = confusion_matrix(y_test, y_pred)\n",
    "print(\"Confusion Matrix:\")\n",
    "print(conf_matrix)\n",
    "\n",
    "# Classification report\n",
    "class_report = classification_report(y_test, y_pred)\n",
    "print(\"\\nClassification Report:\")\n",
    "print(class_report)\n"
   ]
  },
  {
   "cell_type": "markdown",
   "id": "bdcfb133-8ad2-4599-8854-87899fedcf91",
   "metadata": {},
   "source": [
    "##### This analysis indicates that while the model is relatively better at identifying instances of class 0, it needs improvement in recognizing and predicting instances of class 1.The F1-score for class 1 is also quite low, reflecting the model's struggle to balance precision and recall for predicting class 1.\n",
    "\n",
    "\n",
    "\n",
    "\n",
    "\n"
   ]
  },
  {
   "cell_type": "code",
   "execution_count": null,
   "id": "59ce94fe-924a-49b6-b5ab-89c6124258d7",
   "metadata": {},
   "outputs": [],
   "source": []
  },
  {
   "cell_type": "markdown",
   "id": "95419103-2953-4205-b898-4d9f66941952",
   "metadata": {},
   "source": [
    "#### Logistic Regression"
   ]
  },
  {
   "cell_type": "code",
   "execution_count": 7,
   "id": "c3a80cd5-d44e-43c9-921c-cc519681e111",
   "metadata": {
    "tags": []
   },
   "outputs": [
    {
     "name": "stdout",
     "output_type": "stream",
     "text": [
      "Confusion Matrix:\n",
      "[[1125    0]\n",
      " [ 628    0]]\n",
      "\n",
      "Classification Report:\n",
      "              precision    recall  f1-score   support\n",
      "\n",
      "           0       0.64      1.00      0.78      1125\n",
      "           1       0.00      0.00      0.00       628\n",
      "\n",
      "    accuracy                           0.64      1753\n",
      "   macro avg       0.32      0.50      0.39      1753\n",
      "weighted avg       0.41      0.64      0.50      1753\n",
      "\n"
     ]
    },
    {
     "name": "stderr",
     "output_type": "stream",
     "text": [
      "C:\\Users\\steve\\anaconda3\\Lib\\site-packages\\sklearn\\metrics\\_classification.py:1471: UndefinedMetricWarning: Precision and F-score are ill-defined and being set to 0.0 in labels with no predicted samples. Use `zero_division` parameter to control this behavior.\n",
      "  _warn_prf(average, modifier, msg_start, len(result))\n",
      "C:\\Users\\steve\\anaconda3\\Lib\\site-packages\\sklearn\\metrics\\_classification.py:1471: UndefinedMetricWarning: Precision and F-score are ill-defined and being set to 0.0 in labels with no predicted samples. Use `zero_division` parameter to control this behavior.\n",
      "  _warn_prf(average, modifier, msg_start, len(result))\n",
      "C:\\Users\\steve\\anaconda3\\Lib\\site-packages\\sklearn\\metrics\\_classification.py:1471: UndefinedMetricWarning: Precision and F-score are ill-defined and being set to 0.0 in labels with no predicted samples. Use `zero_division` parameter to control this behavior.\n",
      "  _warn_prf(average, modifier, msg_start, len(result))\n"
     ]
    }
   ],
   "source": [
    "from sklearn.model_selection import train_test_split\n",
    "from sklearn.linear_model import LogisticRegression\n",
    "from sklearn.metrics import confusion_matrix, classification_report\n",
    "\n",
    "# Load the dataset\n",
    "lifestyle_factors_file = \"updated_lifestyle_factors.csv\"\n",
    "lifestyle_factor = pd.read_csv(lifestyle_factors_file)\n",
    "\n",
    "# Define features and target variable\n",
    "X = lifestyle_factor.drop('Heart Attack Risk', axis=1)\n",
    "y = lifestyle_factor['Heart Attack Risk']\n",
    "\n",
    "# Split the data into training and testing sets\n",
    "X_train, X_test, y_train, y_test = train_test_split(X, y, test_size=0.2, random_state=42)\n",
    "\n",
    "# Initialize Logistic Regression model\n",
    "log_reg = LogisticRegression(random_state=42)\n",
    "\n",
    "# Train the model\n",
    "log_reg.fit(X_train, y_train)\n",
    "\n",
    "# Predict on the test set\n",
    "y_pred = log_reg.predict(X_test)\n",
    "\n",
    "# Confusion matrix\n",
    "conf_matrix = confusion_matrix(y_test, y_pred)\n",
    "print(\"Confusion Matrix:\")\n",
    "print(conf_matrix)\n",
    "\n",
    "# Classification report\n",
    "class_report = classification_report(y_test, y_pred)\n",
    "print(\"\\nClassification Report:\")\n",
    "print(class_report)\n"
   ]
  },
  {
   "cell_type": "markdown",
   "id": "829e49b5-3d59-4a44-ab82-af72d1c82937",
   "metadata": {},
   "source": [
    "##### Overall, the model's accuracy is 64%, primarily due to its success in identifying instances of class 0, but it completely fails to identify any instances of class 1, which is a severe issue that needs attention."
   ]
  },
  {
   "cell_type": "markdown",
   "id": "762d603d-7982-4098-8a7f-c5ff78e40e1d",
   "metadata": {},
   "source": [
    "#### SVM model"
   ]
  },
  {
   "cell_type": "code",
   "execution_count": 8,
   "id": "cdaac98f-9de6-4643-83f2-fec3f7a04bd0",
   "metadata": {
    "tags": []
   },
   "outputs": [
    {
     "name": "stdout",
     "output_type": "stream",
     "text": [
      "SVM Confusion Matrix:\n",
      "[[1125    0]\n",
      " [ 628    0]]\n",
      "\n",
      "SVM Classification Report:\n",
      "              precision    recall  f1-score   support\n",
      "\n",
      "           0       0.64      1.00      0.78      1125\n",
      "           1       0.00      0.00      0.00       628\n",
      "\n",
      "    accuracy                           0.64      1753\n",
      "   macro avg       0.32      0.50      0.39      1753\n",
      "weighted avg       0.41      0.64      0.50      1753\n",
      "\n"
     ]
    },
    {
     "name": "stderr",
     "output_type": "stream",
     "text": [
      "C:\\Users\\steve\\anaconda3\\Lib\\site-packages\\sklearn\\metrics\\_classification.py:1471: UndefinedMetricWarning: Precision and F-score are ill-defined and being set to 0.0 in labels with no predicted samples. Use `zero_division` parameter to control this behavior.\n",
      "  _warn_prf(average, modifier, msg_start, len(result))\n",
      "C:\\Users\\steve\\anaconda3\\Lib\\site-packages\\sklearn\\metrics\\_classification.py:1471: UndefinedMetricWarning: Precision and F-score are ill-defined and being set to 0.0 in labels with no predicted samples. Use `zero_division` parameter to control this behavior.\n",
      "  _warn_prf(average, modifier, msg_start, len(result))\n",
      "C:\\Users\\steve\\anaconda3\\Lib\\site-packages\\sklearn\\metrics\\_classification.py:1471: UndefinedMetricWarning: Precision and F-score are ill-defined and being set to 0.0 in labels with no predicted samples. Use `zero_division` parameter to control this behavior.\n",
      "  _warn_prf(average, modifier, msg_start, len(result))\n"
     ]
    }
   ],
   "source": [
    "from sklearn.model_selection import train_test_split\n",
    "from sklearn.svm import SVC\n",
    "from sklearn.metrics import confusion_matrix, classification_report\n",
    "\n",
    "# Load the dataset\n",
    "lifestyle_factors_file = \"updated_lifestyle_factors.csv\"\n",
    "lifestyle_factor = pd.read_csv(lifestyle_factors_file)\n",
    "\n",
    "# Define features and target variable\n",
    "X = lifestyle_factor.drop('Heart Attack Risk', axis=1)\n",
    "y = lifestyle_factor['Heart Attack Risk']\n",
    "\n",
    "# Split the data into training and testing sets\n",
    "X_train, X_test, y_train, y_test = train_test_split(X, y, test_size=0.2, random_state=42)\n",
    "\n",
    "# Initialize SVM model\n",
    "svm_model = SVC(kernel='rbf', random_state=42)  # You can try different kernels like 'linear', 'rbf', 'poly'\n",
    "\n",
    "# Train the model\n",
    "svm_model.fit(X_train, y_train)\n",
    "\n",
    "# Predict on the test set\n",
    "y_pred_svm = svm_model.predict(X_test)\n",
    "\n",
    "# Evaluate the model\n",
    "conf_matrix_svm = confusion_matrix(y_test, y_pred_svm)\n",
    "class_report_svm = classification_report(y_test, y_pred_svm)\n",
    "\n",
    "# Display results\n",
    "print(\"SVM Confusion Matrix:\")\n",
    "print(conf_matrix_svm)\n",
    "print(\"\\nSVM Classification Report:\")\n",
    "print(class_report_svm)\n"
   ]
  },
  {
   "cell_type": "markdown",
   "id": "31d99869-837e-4c00-bce3-79d88698d30b",
   "metadata": {},
   "source": [
    "### Medical_Indicators"
   ]
  },
  {
   "cell_type": "code",
   "execution_count": 9,
   "id": "026cfac2-a9f9-45de-b852-cee06f2952e8",
   "metadata": {},
   "outputs": [
    {
     "name": "stdout",
     "output_type": "stream",
     "text": [
      "<class 'pandas.core.frame.DataFrame'>\n",
      "RangeIndex: 8763 entries, 0 to 8762\n",
      "Data columns (total 8 columns):\n",
      " #   Column                   Non-Null Count  Dtype\n",
      "---  ------                   --------------  -----\n",
      " 0   Cholesterol              8763 non-null   int64\n",
      " 1   Heart Rate               8763 non-null   int64\n",
      " 2   Systolic_BP              8763 non-null   int64\n",
      " 3   Diastolic_BP             8763 non-null   int64\n",
      " 4   Medication Use           8763 non-null   int64\n",
      " 5   Triglycerides            8763 non-null   int64\n",
      " 6   Previous Heart Problems  8763 non-null   int64\n",
      " 7   Heart Attack Risk        8763 non-null   int64\n",
      "dtypes: int64(8)\n",
      "memory usage: 547.8 KB\n"
     ]
    }
   ],
   "source": [
    "medical_indicators_file = \"medical_indicators.csv\"\n",
    "medical_indicators.info()"
   ]
  },
  {
   "cell_type": "markdown",
   "id": "455dd803-2640-4f89-943b-6f9d1ef8976c",
   "metadata": {},
   "source": [
    "#### RandomForestClassifier"
   ]
  },
  {
   "cell_type": "code",
   "execution_count": 10,
   "id": "726cf1a5-764b-4823-942d-1e7bb0296fe3",
   "metadata": {
    "tags": []
   },
   "outputs": [
    {
     "name": "stdout",
     "output_type": "stream",
     "text": [
      "\n",
      "Random Forest Classifier Confusion Matrix:\n",
      "[[1035   90]\n",
      " [ 583   45]]\n",
      "\n",
      "Random Forest Classifier Classification Report:\n",
      "              precision    recall  f1-score   support\n",
      "\n",
      "           0       0.64      0.92      0.75      1125\n",
      "           1       0.33      0.07      0.12       628\n",
      "\n",
      "    accuracy                           0.62      1753\n",
      "   macro avg       0.49      0.50      0.44      1753\n",
      "weighted avg       0.53      0.62      0.53      1753\n",
      "\n"
     ]
    }
   ],
   "source": [
    "from sklearn.ensemble import RandomForestClassifier\n",
    "\n",
    "# Initialize Random Forest Classifier\n",
    "rf_classifier = RandomForestClassifier(random_state=42)\n",
    "\n",
    "# Train the model\n",
    "rf_classifier.fit(X_train, y_train)\n",
    "\n",
    "# Predict on the test set\n",
    "y_pred_rf = rf_classifier.predict(X_test)\n",
    "\n",
    "# Confusion matrix\n",
    "conf_matrix_rf = confusion_matrix(y_test, y_pred_rf)\n",
    "print(\"\\nRandom Forest Classifier Confusion Matrix:\")\n",
    "print(conf_matrix_rf)\n",
    "\n",
    "# Classification report\n",
    "class_report_rf = classification_report(y_test, y_pred_rf)\n",
    "print(\"\\nRandom Forest Classifier Classification Report:\")\n",
    "print(class_report_rf)\n"
   ]
  },
  {
   "cell_type": "code",
   "execution_count": null,
   "id": "0fd0df54-001e-4c15-b09c-b744bce571b6",
   "metadata": {},
   "outputs": [],
   "source": []
  },
  {
   "cell_type": "markdown",
   "id": "20b3ad19-65a0-461d-bc8a-31de5453490c",
   "metadata": {},
   "source": [
    "#### LogisticRegression"
   ]
  },
  {
   "cell_type": "code",
   "execution_count": 11,
   "id": "6760aca6-37c6-40bf-a458-38e46efec390",
   "metadata": {
    "tags": []
   },
   "outputs": [
    {
     "name": "stdout",
     "output_type": "stream",
     "text": [
      "Logistic Regression Confusion Matrix:\n",
      "[[1125    0]\n",
      " [ 628    0]]\n",
      "\n",
      "Logistic Regression Classification Report:\n",
      "              precision    recall  f1-score   support\n",
      "\n",
      "           0       0.64      1.00      0.78      1125\n",
      "           1       0.00      0.00      0.00       628\n",
      "\n",
      "    accuracy                           0.64      1753\n",
      "   macro avg       0.32      0.50      0.39      1753\n",
      "weighted avg       0.41      0.64      0.50      1753\n",
      "\n"
     ]
    },
    {
     "name": "stderr",
     "output_type": "stream",
     "text": [
      "C:\\Users\\steve\\anaconda3\\Lib\\site-packages\\sklearn\\metrics\\_classification.py:1471: UndefinedMetricWarning: Precision and F-score are ill-defined and being set to 0.0 in labels with no predicted samples. Use `zero_division` parameter to control this behavior.\n",
      "  _warn_prf(average, modifier, msg_start, len(result))\n",
      "C:\\Users\\steve\\anaconda3\\Lib\\site-packages\\sklearn\\metrics\\_classification.py:1471: UndefinedMetricWarning: Precision and F-score are ill-defined and being set to 0.0 in labels with no predicted samples. Use `zero_division` parameter to control this behavior.\n",
      "  _warn_prf(average, modifier, msg_start, len(result))\n",
      "C:\\Users\\steve\\anaconda3\\Lib\\site-packages\\sklearn\\metrics\\_classification.py:1471: UndefinedMetricWarning: Precision and F-score are ill-defined and being set to 0.0 in labels with no predicted samples. Use `zero_division` parameter to control this behavior.\n",
      "  _warn_prf(average, modifier, msg_start, len(result))\n"
     ]
    }
   ],
   "source": [
    "from sklearn.model_selection import train_test_split\n",
    "from sklearn.linear_model import LogisticRegression\n",
    "from sklearn.metrics import confusion_matrix, classification_report\n",
    "\n",
    "# Load the dataset\n",
    "medical_indicators_file = \"medical_indicators.csv\"\n",
    "medical_data = pd.read_csv(medical_indicators_file)\n",
    "\n",
    "# Define features and target variable\n",
    "X = medical_data.drop('Heart Attack Risk', axis=1)\n",
    "y = medical_data['Heart Attack Risk']\n",
    "\n",
    "# Split the data into training and testing sets\n",
    "X_train, X_test, y_train, y_test = train_test_split(X, y, test_size=0.2, random_state=42)\n",
    "\n",
    "# Initialize Logistic Regression model\n",
    "log_reg = LogisticRegression(random_state=42)\n",
    "\n",
    "# Train the model\n",
    "log_reg.fit(X_train, y_train)\n",
    "\n",
    "# Predict on the test set\n",
    "y_pred_log_reg = log_reg.predict(X_test)\n",
    "\n",
    "# Confusion matrix\n",
    "conf_matrix_log_reg = confusion_matrix(y_test, y_pred_log_reg)\n",
    "print(\"Logistic Regression Confusion Matrix:\")\n",
    "print(conf_matrix_log_reg)\n",
    "\n",
    "# Classification report\n",
    "class_report_log_reg = classification_report(y_test, y_pred_log_reg)\n",
    "print(\"\\nLogistic Regression Classification Report:\")\n",
    "print(class_report_log_reg)\n"
   ]
  },
  {
   "cell_type": "code",
   "execution_count": null,
   "id": "b47d56c5-1eea-4b10-9ac8-d899b2cf060f",
   "metadata": {},
   "outputs": [],
   "source": []
  },
  {
   "cell_type": "markdown",
   "id": "492ebde0-9f7d-4350-a127-22bd5646a7a4",
   "metadata": {},
   "source": [
    "### Demographic Influences"
   ]
  },
  {
   "cell_type": "code",
   "execution_count": 12,
   "id": "e4a899df-5ee3-447c-8cc2-b73c8f5467fd",
   "metadata": {
    "tags": []
   },
   "outputs": [
    {
     "name": "stdout",
     "output_type": "stream",
     "text": [
      "<class 'pandas.core.frame.DataFrame'>\n",
      "RangeIndex: 8763 entries, 0 to 8762\n",
      "Data columns (total 34 columns):\n",
      " #   Column               Non-Null Count  Dtype  \n",
      "---  ------               --------------  -----  \n",
      " 0   United States        8763 non-null   float64\n",
      " 1   Canada               8763 non-null   float64\n",
      " 2   United Kingdom       8763 non-null   float64\n",
      " 3   Germany              8763 non-null   float64\n",
      " 4   Australia            8763 non-null   float64\n",
      " 5   France               8763 non-null   float64\n",
      " 6   Netherlands          8763 non-null   float64\n",
      " 7   Brazil               8763 non-null   float64\n",
      " 8   Italy                8763 non-null   float64\n",
      " 9   Spain                8763 non-null   float64\n",
      " 10  India                8763 non-null   float64\n",
      " 11  Mexico               8763 non-null   float64\n",
      " 12  South Africa         8763 non-null   float64\n",
      " 13  Argentina            8763 non-null   float64\n",
      " 14  China                8763 non-null   float64\n",
      " 15  Japan                8763 non-null   float64\n",
      " 16  Russia               8763 non-null   float64\n",
      " 17  Saudi Arabia         8763 non-null   float64\n",
      " 18  South Korea          8763 non-null   float64\n",
      " 19  Other                8763 non-null   float64\n",
      " 20  Africa               8763 non-null   float64\n",
      " 21  Asia                 8763 non-null   float64\n",
      " 22  Europe               8763 non-null   float64\n",
      " 23  North America        8763 non-null   float64\n",
      " 24  Oceania              8763 non-null   float64\n",
      " 25  South America        8763 non-null   float64\n",
      " 26  Northern Hemisphere  8763 non-null   float64\n",
      " 27  Southern Hemisphere  8763 non-null   float64\n",
      " 28  Age                  8763 non-null   int64  \n",
      " 29  Sex                  8763 non-null   int64  \n",
      " 30  Income               8763 non-null   int64  \n",
      " 31  Family History       8763 non-null   int64  \n",
      " 32  Obesity              8763 non-null   int64  \n",
      " 33  Heart Attack Risk    8763 non-null   int64  \n",
      "dtypes: float64(28), int64(6)\n",
      "memory usage: 2.3 MB\n"
     ]
    }
   ],
   "source": [
    "demographic_influences_file = \"demographic_influences.csv\"\n",
    "demographic_influences.info()"
   ]
  },
  {
   "cell_type": "code",
   "execution_count": null,
   "id": "33b84940-0f47-46e0-b5c2-67b3d4af1026",
   "metadata": {},
   "outputs": [],
   "source": []
  },
  {
   "cell_type": "markdown",
   "id": "58683916-d012-429d-80b8-d3dee3a90244",
   "metadata": {},
   "source": [
    "#### Random Forest"
   ]
  },
  {
   "cell_type": "code",
   "execution_count": 13,
   "id": "f84b2fc8-cd55-40ae-b6c6-afac5947c486",
   "metadata": {
    "tags": []
   },
   "outputs": [
    {
     "name": "stdout",
     "output_type": "stream",
     "text": [
      "\n",
      "Random Forest Classifier Confusion Matrix:\n",
      "[[1038   87]\n",
      " [ 576   52]]\n",
      "\n",
      "Random Forest Classifier Classification Report:\n",
      "              precision    recall  f1-score   support\n",
      "\n",
      "           0       0.64      0.92      0.76      1125\n",
      "           1       0.37      0.08      0.14       628\n",
      "\n",
      "    accuracy                           0.62      1753\n",
      "   macro avg       0.51      0.50      0.45      1753\n",
      "weighted avg       0.55      0.62      0.53      1753\n",
      "\n"
     ]
    }
   ],
   "source": [
    "from sklearn.ensemble import RandomForestClassifier\n",
    "\n",
    "# Initialize Random Forest Classifier\n",
    "rf_classifier = RandomForestClassifier(random_state=42)\n",
    "\n",
    "# Train the model\n",
    "rf_classifier.fit(X_train, y_train)\n",
    "\n",
    "# Predict on the test set\n",
    "y_pred_rf = rf_classifier.predict(X_test)\n",
    "\n",
    "# Confusion matrix\n",
    "conf_matrix_rf = confusion_matrix(y_test, y_pred_rf)\n",
    "print(\"\\nRandom Forest Classifier Confusion Matrix:\")\n",
    "print(conf_matrix_rf)\n",
    "\n",
    "# Classification report\n",
    "class_report_rf = classification_report(y_test, y_pred_rf)\n",
    "print(\"\\nRandom Forest Classifier Classification Report:\")\n",
    "print(class_report_rf)\n"
   ]
  },
  {
   "cell_type": "code",
   "execution_count": null,
   "id": "eddd6275-f2e7-43da-8531-064ea8fbeb7a",
   "metadata": {},
   "outputs": [],
   "source": []
  },
  {
   "cell_type": "markdown",
   "id": "b739c46a-743e-4801-8b61-313c9616eef7",
   "metadata": {},
   "source": [
    "#### Logistic Regression"
   ]
  },
  {
   "cell_type": "code",
   "execution_count": 14,
   "id": "bd10e6da-36e7-4985-8439-d9b32ba06c8d",
   "metadata": {
    "tags": []
   },
   "outputs": [
    {
     "name": "stdout",
     "output_type": "stream",
     "text": [
      "Logistic Regression Confusion Matrix:\n",
      "[[1125    0]\n",
      " [ 628    0]]\n",
      "\n",
      "Logistic Regression Classification Report:\n",
      "              precision    recall  f1-score   support\n",
      "\n",
      "           0       0.64      1.00      0.78      1125\n",
      "           1       0.00      0.00      0.00       628\n",
      "\n",
      "    accuracy                           0.64      1753\n",
      "   macro avg       0.32      0.50      0.39      1753\n",
      "weighted avg       0.41      0.64      0.50      1753\n",
      "\n"
     ]
    },
    {
     "name": "stderr",
     "output_type": "stream",
     "text": [
      "C:\\Users\\steve\\anaconda3\\Lib\\site-packages\\sklearn\\metrics\\_classification.py:1471: UndefinedMetricWarning: Precision and F-score are ill-defined and being set to 0.0 in labels with no predicted samples. Use `zero_division` parameter to control this behavior.\n",
      "  _warn_prf(average, modifier, msg_start, len(result))\n",
      "C:\\Users\\steve\\anaconda3\\Lib\\site-packages\\sklearn\\metrics\\_classification.py:1471: UndefinedMetricWarning: Precision and F-score are ill-defined and being set to 0.0 in labels with no predicted samples. Use `zero_division` parameter to control this behavior.\n",
      "  _warn_prf(average, modifier, msg_start, len(result))\n",
      "C:\\Users\\steve\\anaconda3\\Lib\\site-packages\\sklearn\\metrics\\_classification.py:1471: UndefinedMetricWarning: Precision and F-score are ill-defined and being set to 0.0 in labels with no predicted samples. Use `zero_division` parameter to control this behavior.\n",
      "  _warn_prf(average, modifier, msg_start, len(result))\n"
     ]
    }
   ],
   "source": [
    "import pandas as pd\n",
    "from sklearn.model_selection import train_test_split\n",
    "from sklearn.linear_model import LogisticRegression\n",
    "from sklearn.metrics import confusion_matrix, classification_report\n",
    "\n",
    "# Load the dataset\n",
    "demographic_influences_file = \"demographic_influences.csv\"\n",
    "demographic_data = pd.read_csv(demographic_influences_file)\n",
    "\n",
    "# Define features and target variable\n",
    "X = demographic_data.drop('Heart Attack Risk', axis=1)\n",
    "y = demographic_data['Heart Attack Risk']\n",
    "\n",
    "# Split the data into training and testing sets\n",
    "X_train, X_test, y_train, y_test = train_test_split(X, y, test_size=0.2, random_state=42)\n",
    "\n",
    "# Initialize Logistic Regression model\n",
    "log_reg = LogisticRegression(random_state=42)\n",
    "\n",
    "# Train the model\n",
    "log_reg.fit(X_train, y_train)\n",
    "\n",
    "# Predict on the test set\n",
    "y_pred_log_reg = log_reg.predict(X_test)\n",
    "\n",
    "# Confusion matrix\n",
    "conf_matrix_log_reg = confusion_matrix(y_test, y_pred_log_reg)\n",
    "print(\"Logistic Regression Confusion Matrix:\")\n",
    "print(conf_matrix_log_reg)\n",
    "\n",
    "# Classification report\n",
    "class_report_log_reg = classification_report(y_test, y_pred_log_reg)\n",
    "print(\"\\nLogistic Regression Classification Report:\")\n",
    "print(class_report_log_reg)\n"
   ]
  },
  {
   "cell_type": "code",
   "execution_count": 18,
   "id": "20291bca-ac32-4753-bace-92420bb31b21",
   "metadata": {
    "tags": []
   },
   "outputs": [
    {
     "name": "stdout",
     "output_type": "stream",
     "text": [
      "Classification Report:\n",
      "              precision    recall  f1-score   support\n",
      "\n",
      "           0       0.64      1.00      0.78      1125\n",
      "           1       0.00      0.00      0.00       628\n",
      "\n",
      "    accuracy                           0.64      1753\n",
      "   macro avg       0.32      0.50      0.39      1753\n",
      "weighted avg       0.41      0.64      0.50      1753\n",
      "\n"
     ]
    },
    {
     "name": "stderr",
     "output_type": "stream",
     "text": [
      "C:\\Users\\steve\\anaconda3\\Lib\\site-packages\\sklearn\\metrics\\_classification.py:1471: UndefinedMetricWarning: Precision and F-score are ill-defined and being set to 0.0 in labels with no predicted samples. Use `zero_division` parameter to control this behavior.\n",
      "  _warn_prf(average, modifier, msg_start, len(result))\n",
      "C:\\Users\\steve\\anaconda3\\Lib\\site-packages\\sklearn\\metrics\\_classification.py:1471: UndefinedMetricWarning: Precision and F-score are ill-defined and being set to 0.0 in labels with no predicted samples. Use `zero_division` parameter to control this behavior.\n",
      "  _warn_prf(average, modifier, msg_start, len(result))\n",
      "C:\\Users\\steve\\anaconda3\\Lib\\site-packages\\sklearn\\metrics\\_classification.py:1471: UndefinedMetricWarning: Precision and F-score are ill-defined and being set to 0.0 in labels with no predicted samples. Use `zero_division` parameter to control this behavior.\n",
      "  _warn_prf(average, modifier, msg_start, len(result))\n"
     ]
    }
   ],
   "source": [
    "from sklearn.metrics import classification_report\n",
    "\n",
    "class_report = classification_report(y_test, y_pred_lr)\n",
    "print(\"Classification Report:\")\n",
    "print(class_report)\n"
   ]
  },
  {
   "cell_type": "code",
   "execution_count": null,
   "id": "780710ac-80ad-4e5a-a9f7-a390f23957ec",
   "metadata": {},
   "outputs": [],
   "source": []
  },
  {
   "cell_type": "markdown",
   "id": "2b64f534-f930-4738-bd7d-5f8f640072b5",
   "metadata": {},
   "source": [
    "#### The models showed no improvement. As a result, I will recombine the files, incorporating a wider range of variables from the initial 25 to 49 files, due to the necessity of comprehensive data normalization."
   ]
  },
  {
   "cell_type": "markdown",
   "id": "ddd8c92e-cb65-4234-9cb0-4eeefe365013",
   "metadata": {
    "tags": []
   },
   "source": [
    "#####Suggests a level of consistency across various algorithms. Consequently, further in-depth analysis or exploration of alternative models might not significantly enhance the predictive performance. The similarity in accuracy rates across models indicates a consistent predictive capability within this range, potentially signaling the limitations inherent in the dataset or the complexity of predicting heart attack risk using these features.\n"
   ]
  },
  {
   "cell_type": "markdown",
   "id": "f65f7f48-7a23-4db5-ab9f-ce401430f304",
   "metadata": {},
   "source": [
    "#### Model Remerged"
   ]
  },
  {
   "cell_type": "code",
   "execution_count": null,
   "id": "dabd235a-d600-4df0-aaf2-d1f29f7261b2",
   "metadata": {},
   "outputs": [],
   "source": []
  },
  {
   "cell_type": "code",
   "execution_count": 22,
   "id": "b49bb079-cf61-4905-856f-159c0fe4e64a",
   "metadata": {
    "tags": []
   },
   "outputs": [
    {
     "name": "stdout",
     "output_type": "stream",
     "text": [
      "<class 'pandas.core.frame.DataFrame'>\n",
      "RangeIndex: 8763 entries, 0 to 8762\n",
      "Data columns (total 50 columns):\n",
      " #   Column                           Non-Null Count  Dtype  \n",
      "---  ------                           --------------  -----  \n",
      " 0   Smoking                          8763 non-null   int64  \n",
      " 1   Alcohol Consumption              8763 non-null   int64  \n",
      " 2   Exercise Hours Per Week          8763 non-null   float64\n",
      " 3   Diet                             8763 non-null   int64  \n",
      " 4   Stress Level                     8763 non-null   int64  \n",
      " 5   Sedentary Hours Per Day          8763 non-null   float64\n",
      " 6   BMI                              8763 non-null   float64\n",
      " 7   Physical Activity Days Per Week  8763 non-null   int64  \n",
      " 8   Sleep Hours Per Day              8763 non-null   int64  \n",
      " 9   Cholesterol                      8763 non-null   int64  \n",
      " 10  Heart Rate                       8763 non-null   int64  \n",
      " 11  Systolic_BP                      8763 non-null   int64  \n",
      " 12  Diastolic_BP                     8763 non-null   int64  \n",
      " 13  Medication Use                   8763 non-null   int64  \n",
      " 14  Triglycerides                    8763 non-null   int64  \n",
      " 15  Previous Heart Problems          8763 non-null   int64  \n",
      " 16  United States                    8763 non-null   float64\n",
      " 17  Canada                           8763 non-null   float64\n",
      " 18  United Kingdom                   8763 non-null   float64\n",
      " 19  Germany                          8763 non-null   float64\n",
      " 20  Australia                        8763 non-null   float64\n",
      " 21  France                           8763 non-null   float64\n",
      " 22  Netherlands                      8763 non-null   float64\n",
      " 23  Brazil                           8763 non-null   float64\n",
      " 24  Italy                            8763 non-null   float64\n",
      " 25  Spain                            8763 non-null   float64\n",
      " 26  India                            8763 non-null   float64\n",
      " 27  Mexico                           8763 non-null   float64\n",
      " 28  South Africa                     8763 non-null   float64\n",
      " 29  Argentina                        8763 non-null   float64\n",
      " 30  China                            8763 non-null   float64\n",
      " 31  Japan                            8763 non-null   float64\n",
      " 32  Russia                           8763 non-null   float64\n",
      " 33  Saudi Arabia                     8763 non-null   float64\n",
      " 34  South Korea                      8763 non-null   float64\n",
      " 35  Other                            8763 non-null   float64\n",
      " 36  Africa                           8763 non-null   float64\n",
      " 37  Asia                             8763 non-null   float64\n",
      " 38  Europe                           8763 non-null   float64\n",
      " 39  North America                    8763 non-null   float64\n",
      " 40  Oceania                          8763 non-null   float64\n",
      " 41  South America                    8763 non-null   float64\n",
      " 42  Northern Hemisphere              8763 non-null   float64\n",
      " 43  Southern Hemisphere              8763 non-null   float64\n",
      " 44  Age                              8763 non-null   int64  \n",
      " 45  Sex                              8763 non-null   int64  \n",
      " 46  Income                           8763 non-null   int64  \n",
      " 47  Family History                   8763 non-null   int64  \n",
      " 48  Obesity                          8763 non-null   int64  \n",
      " 49  Heart Attack Risk                8763 non-null   int64  \n",
      "dtypes: float64(31), int64(19)\n",
      "memory usage: 3.3 MB\n"
     ]
    }
   ],
   "source": [
    "remerged_df.info()"
   ]
  },
  {
   "cell_type": "code",
   "execution_count": null,
   "id": "00e6f81a-9f43-44cd-b51c-07f02db939ab",
   "metadata": {},
   "outputs": [],
   "source": []
  },
  {
   "cell_type": "code",
   "execution_count": null,
   "id": "b18ee556-3c98-4a5f-ab6f-15c7e02bf16c",
   "metadata": {},
   "outputs": [],
   "source": []
  }
 ],
 "metadata": {
  "kernelspec": {
   "display_name": "Python 3 (ipykernel)",
   "language": "python",
   "name": "python3"
  },
  "language_info": {
   "codemirror_mode": {
    "name": "ipython",
    "version": 3
   },
   "file_extension": ".py",
   "mimetype": "text/x-python",
   "name": "python",
   "nbconvert_exporter": "python",
   "pygments_lexer": "ipython3",
   "version": "3.11.3"
  }
 },
 "nbformat": 4,
 "nbformat_minor": 5
}
