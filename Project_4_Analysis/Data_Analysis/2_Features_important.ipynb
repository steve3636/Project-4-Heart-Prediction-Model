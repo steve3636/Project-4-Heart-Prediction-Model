{
 "cells": [
  {
   "cell_type": "markdown",
   "id": "b1284b65-cc36-44ef-a5b4-2fde7a189551",
   "metadata": {
    "tags": []
   },
   "source": [
    "##### Loading and Preparing Data for Various Model Testing:"
   ]
  },
  {
   "cell_type": "code",
   "execution_count": 15,
   "id": "a304c66a-6488-40d0-a358-28a94e33bedd",
   "metadata": {
    "tags": []
   },
   "outputs": [
    {
     "data": {
      "text/html": [
       "<div>\n",
       "<style scoped>\n",
       "    .dataframe tbody tr th:only-of-type {\n",
       "        vertical-align: middle;\n",
       "    }\n",
       "\n",
       "    .dataframe tbody tr th {\n",
       "        vertical-align: top;\n",
       "    }\n",
       "\n",
       "    .dataframe thead th {\n",
       "        text-align: right;\n",
       "    }\n",
       "</style>\n",
       "<table border=\"1\" class=\"dataframe\">\n",
       "  <thead>\n",
       "    <tr style=\"text-align: right;\">\n",
       "      <th></th>\n",
       "      <th>Heart Attack Risk</th>\n",
       "      <th>Triglycerides</th>\n",
       "      <th>Income</th>\n",
       "      <th>Exercise Hours Per Week</th>\n",
       "      <th>BMI</th>\n",
       "      <th>Sedentary Hours Per Day</th>\n",
       "      <th>Age</th>\n",
       "      <th>Cholesterol</th>\n",
       "      <th>Diastolic_BP</th>\n",
       "      <th>Systolic_BP</th>\n",
       "    </tr>\n",
       "  </thead>\n",
       "  <tbody>\n",
       "    <tr>\n",
       "      <th>0</th>\n",
       "      <td>0</td>\n",
       "      <td>286</td>\n",
       "      <td>261404</td>\n",
       "      <td>4.168189</td>\n",
       "      <td>31.251233</td>\n",
       "      <td>6.615001</td>\n",
       "      <td>67</td>\n",
       "      <td>208</td>\n",
       "      <td>88.0</td>\n",
       "      <td>158.0</td>\n",
       "    </tr>\n",
       "    <tr>\n",
       "      <th>1</th>\n",
       "      <td>0</td>\n",
       "      <td>235</td>\n",
       "      <td>285768</td>\n",
       "      <td>1.813242</td>\n",
       "      <td>27.194973</td>\n",
       "      <td>4.963459</td>\n",
       "      <td>21</td>\n",
       "      <td>389</td>\n",
       "      <td>93.0</td>\n",
       "      <td>165.0</td>\n",
       "    </tr>\n",
       "    <tr>\n",
       "      <th>2</th>\n",
       "      <td>0</td>\n",
       "      <td>587</td>\n",
       "      <td>235282</td>\n",
       "      <td>2.078353</td>\n",
       "      <td>28.176571</td>\n",
       "      <td>9.463426</td>\n",
       "      <td>21</td>\n",
       "      <td>324</td>\n",
       "      <td>99.0</td>\n",
       "      <td>174.0</td>\n",
       "    </tr>\n",
       "    <tr>\n",
       "      <th>3</th>\n",
       "      <td>0</td>\n",
       "      <td>378</td>\n",
       "      <td>125640</td>\n",
       "      <td>9.828130</td>\n",
       "      <td>36.464704</td>\n",
       "      <td>7.648981</td>\n",
       "      <td>84</td>\n",
       "      <td>383</td>\n",
       "      <td>100.0</td>\n",
       "      <td>163.0</td>\n",
       "    </tr>\n",
       "    <tr>\n",
       "      <th>4</th>\n",
       "      <td>0</td>\n",
       "      <td>231</td>\n",
       "      <td>160555</td>\n",
       "      <td>5.804299</td>\n",
       "      <td>21.809144</td>\n",
       "      <td>1.514821</td>\n",
       "      <td>66</td>\n",
       "      <td>318</td>\n",
       "      <td>88.0</td>\n",
       "      <td>91.0</td>\n",
       "    </tr>\n",
       "  </tbody>\n",
       "</table>\n",
       "</div>"
      ],
      "text/plain": [
       "   Heart Attack Risk  Triglycerides  Income  Exercise Hours Per Week  \\\n",
       "0                  0            286  261404                 4.168189   \n",
       "1                  0            235  285768                 1.813242   \n",
       "2                  0            587  235282                 2.078353   \n",
       "3                  0            378  125640                 9.828130   \n",
       "4                  0            231  160555                 5.804299   \n",
       "\n",
       "         BMI  Sedentary Hours Per Day  Age  Cholesterol  Diastolic_BP  \\\n",
       "0  31.251233                 6.615001   67          208          88.0   \n",
       "1  27.194973                 4.963459   21          389          93.0   \n",
       "2  28.176571                 9.463426   21          324          99.0   \n",
       "3  36.464704                 7.648981   84          383         100.0   \n",
       "4  21.809144                 1.514821   66          318          88.0   \n",
       "\n",
       "   Systolic_BP  \n",
       "0        158.0  \n",
       "1        165.0  \n",
       "2        174.0  \n",
       "3        163.0  \n",
       "4         91.0  "
      ]
     },
     "execution_count": 15,
     "metadata": {},
     "output_type": "execute_result"
    }
   ],
   "source": [
    "import pandas as pd\n",
    "from sklearn.model_selection import train_test_split\n",
    "from sklearn.neighbors import KNeighborsClassifier\n",
    "from sklearn.tree import DecisionTreeClassifier\n",
    "from sklearn.ensemble import RandomForestClassifier\n",
    "from sklearn.linear_model import LogisticRegression\n",
    "from sklearn.metrics import classification_report, confusion_matrix, mean_squared_error\n",
    "import matplotlib.pyplot as plt\n",
    "import seaborn as sns\n",
    "\n",
    "# File path to your CSV file\n",
    "file_path = '../Data_Analysis/features_important.csv'\n",
    "\n",
    "# Read the CSV file into a DataFrame\n",
    "new_df = pd.read_csv(file_path)\n",
    "\n",
    "# Display the first few rows of the DataFrame to verify the import\n",
    "new_df.head()\n"
   ]
  },
  {
   "cell_type": "markdown",
   "id": "83da3c7d-6b60-46f2-a34f-b813e96fd0a8",
   "metadata": {},
   "source": [
    "##### Define features and target variable"
   ]
  },
  {
   "cell_type": "code",
   "execution_count": 17,
   "id": "df76ee99-8671-4a52-ad3d-111befb3749b",
   "metadata": {
    "tags": []
   },
   "outputs": [],
   "source": [
    "# Define features and target variable\n",
    "X = new_df[['Triglycerides', 'Income', 'Exercise Hours Per Week', 'BMI', 'Sedentary Hours Per Day',\n",
    "            'Age', 'Cholesterol', 'Diastolic_BP', 'Systolic_BP']]\n",
    "y = new_df['Heart Attack Risk']\n",
    "\n",
    "# Splitting the data into training and testing sets\n",
    "X_train, X_test, y_train, y_test = train_test_split(X, y, test_size=0.2)\n"
   ]
  },
  {
   "cell_type": "code",
   "execution_count": null,
   "id": "1397fc44-872e-4b4e-98d9-ed00aabf0778",
   "metadata": {},
   "outputs": [],
   "source": []
  },
  {
   "cell_type": "markdown",
   "id": "1a20b88f-e195-42c2-9418-3e5fbac23348",
   "metadata": {},
   "source": [
    "### Feature Important analysis"
   ]
  },
  {
   "cell_type": "markdown",
   "id": "970449eb-e1fb-4098-b654-2b0be4556f7f",
   "metadata": {
    "tags": []
   },
   "source": [
    "##### KNN Model:"
   ]
  },
  {
   "cell_type": "code",
   "execution_count": 31,
   "id": "8fc4e81e-a337-4952-b2c0-d0ec79f251fd",
   "metadata": {
    "tags": []
   },
   "outputs": [
    {
     "name": "stdout",
     "output_type": "stream",
     "text": [
      "KNN Classification Report:\n",
      "              precision    recall  f1-score   support\n",
      "\n",
      "           0       0.65      0.76      0.70      1148\n",
      "           1       0.34      0.24      0.29       605\n",
      "\n",
      "    accuracy                           0.58      1753\n",
      "   macro avg       0.50      0.50      0.49      1753\n",
      "weighted avg       0.55      0.58      0.56      1753\n",
      "\n",
      "\n",
      "KNN Confusion Matrix:\n",
      "[[867 281]\n",
      " [457 148]]\n"
     ]
    }
   ],
   "source": [
    "# Initializing and training KNN model\n",
    "knn_classifier = KNeighborsClassifier(n_neighbors=5)\n",
    "# Generating and printing the classification report and confusion matrix for KNN\n",
    "print(\"KNN Classification Report:\")\n",
    "print(classification_report(y_test, knn_y_pred))\n",
    "print(\"\\nKNN Confusion Matrix:\")\n",
    "print(confusion_matrix(y_test, knn_y_pred))\n"
   ]
  },
  {
   "cell_type": "markdown",
   "id": "e7f24f4f-a022-4c82-97e0-d80fdd4d5c6f",
   "metadata": {
    "tags": []
   },
   "source": [
    "##### Decision Tree Classifier Model"
   ]
  },
  {
   "cell_type": "code",
   "execution_count": 32,
   "id": "4dff469b-fcc1-4fbc-b49a-b44d088f6594",
   "metadata": {
    "tags": []
   },
   "outputs": [
    {
     "name": "stdout",
     "output_type": "stream",
     "text": [
      "\n",
      "Decision Tree Classification Report:\n",
      "              precision    recall  f1-score   support\n",
      "\n",
      "           0       0.65      0.62      0.64      1148\n",
      "           1       0.34      0.38      0.36       605\n",
      "\n",
      "    accuracy                           0.54      1753\n",
      "   macro avg       0.50      0.50      0.50      1753\n",
      "weighted avg       0.55      0.54      0.54      1753\n",
      "\n",
      "\n",
      "Decision Tree Confusion Matrix:\n",
      "[[709 439]\n",
      " [375 230]]\n"
     ]
    }
   ],
   "source": [
    "# Initializing and training Decision Tree model\n",
    "dt_classifier = DecisionTreeClassifier()\n",
    "\n",
    "# Generating and printing the classification report and confusion matrix for Decision Tree\n",
    "print(\"\\nDecision Tree Classification Report:\")\n",
    "print(classification_report(y_test, dt_y_pred))\n",
    "print(\"\\nDecision Tree Confusion Matrix:\")\n",
    "print(confusion_matrix(y_test, dt_y_pred))"
   ]
  },
  {
   "cell_type": "markdown",
   "id": "f60723b0-71ee-4c8b-bab2-0eb9a96d164d",
   "metadata": {},
   "source": [
    "##### Random Forest Model:"
   ]
  },
  {
   "cell_type": "code",
   "execution_count": 33,
   "id": "9d185e54-7bd2-4451-88a6-fb3bd33332d8",
   "metadata": {
    "tags": []
   },
   "outputs": [
    {
     "name": "stdout",
     "output_type": "stream",
     "text": [
      "\n",
      "Random Forest Classification Report:\n",
      "              precision    recall  f1-score   support\n",
      "\n",
      "           0       0.66      0.97      0.78      1148\n",
      "           1       0.45      0.05      0.09       605\n",
      "\n",
      "    accuracy                           0.65      1753\n",
      "   macro avg       0.56      0.51      0.44      1753\n",
      "weighted avg       0.59      0.65      0.54      1753\n",
      "\n",
      "\n",
      "Random Forest Confusion Matrix:\n",
      "[[1112   36]\n",
      " [ 575   30]]\n"
     ]
    }
   ],
   "source": [
    "# Random Forest Classifier\n",
    "rf_classifier = RandomForestClassifier(n_estimators=500)\n",
    "\n",
    "# Generating and printing the classification report and confusion matrix for Random Forest\n",
    "print(\"\\nRandom Forest Classification Report:\")\n",
    "print(classification_report(y_test, rf_y_pred))\n",
    "print(\"\\nRandom Forest Confusion Matrix:\")\n",
    "print(confusion_matrix(y_test, rf_y_pred))\n"
   ]
  },
  {
   "cell_type": "markdown",
   "id": "ff77a5cf-de1c-4aaf-afdc-9f5b9855533d",
   "metadata": {
    "tags": []
   },
   "source": [
    "##### Logistic Regression Model:"
   ]
  },
  {
   "cell_type": "code",
   "execution_count": 34,
   "id": "30e02351-debc-4501-9969-1d5661dd4d7e",
   "metadata": {
    "tags": []
   },
   "outputs": [
    {
     "name": "stdout",
     "output_type": "stream",
     "text": [
      "\n",
      "Logistic Regression Classification Report:\n",
      "              precision    recall  f1-score   support\n",
      "\n",
      "           0       0.65      1.00      0.79      1148\n",
      "           1       0.00      0.00      0.00       605\n",
      "\n",
      "    accuracy                           0.65      1753\n",
      "   macro avg       0.33      0.50      0.40      1753\n",
      "weighted avg       0.43      0.65      0.52      1753\n",
      "\n",
      "\n",
      "Logistic Regression Confusion Matrix:\n",
      "[[1148    0]\n",
      " [ 605    0]]\n"
     ]
    },
    {
     "name": "stderr",
     "output_type": "stream",
     "text": [
      "C:\\Users\\steve\\anaconda3\\Lib\\site-packages\\sklearn\\metrics\\_classification.py:1471: UndefinedMetricWarning: Precision and F-score are ill-defined and being set to 0.0 in labels with no predicted samples. Use `zero_division` parameter to control this behavior.\n",
      "  _warn_prf(average, modifier, msg_start, len(result))\n",
      "C:\\Users\\steve\\anaconda3\\Lib\\site-packages\\sklearn\\metrics\\_classification.py:1471: UndefinedMetricWarning: Precision and F-score are ill-defined and being set to 0.0 in labels with no predicted samples. Use `zero_division` parameter to control this behavior.\n",
      "  _warn_prf(average, modifier, msg_start, len(result))\n",
      "C:\\Users\\steve\\anaconda3\\Lib\\site-packages\\sklearn\\metrics\\_classification.py:1471: UndefinedMetricWarning: Precision and F-score are ill-defined and being set to 0.0 in labels with no predicted samples. Use `zero_division` parameter to control this behavior.\n",
      "  _warn_prf(average, modifier, msg_start, len(result))\n"
     ]
    }
   ],
   "source": [
    "from sklearn.linear_model import LogisticRegression\n",
    "\n",
    "logistic_reg = LogisticRegression(max_iter=500)\n",
    "\n",
    "print(\"\\nLogistic Regression Classification Report:\")\n",
    "print(classification_report(y_test, logistic_y_pred))\n",
    "\n",
    "print(\"\\nLogistic Regression Confusion Matrix:\")\n",
    "print(confusion_matrix(y_test, logistic_y_pred))\n"
   ]
  },
  {
   "cell_type": "code",
   "execution_count": null,
   "id": "49d128a4-69aa-4d67-95f4-b78374b030c3",
   "metadata": {},
   "outputs": [],
   "source": []
  },
  {
   "cell_type": "markdown",
   "id": "a3db0790-624a-48c9-a40d-9c20fbd1745d",
   "metadata": {},
   "source": [
    "#### Bar Plot for Model Accuracies:"
   ]
  },
  {
   "cell_type": "code",
   "execution_count": 27,
   "id": "0a65ff83-6675-4846-afaf-7677e3e79133",
   "metadata": {
    "tags": []
   },
   "outputs": [
    {
     "data": {
      "image/png": "[encoded data removed]",
      "text/plain": [
       "<Figure size 1000x600 with 1 Axes>"
      ]
     },
     "metadata": {},
     "output_type": "display_data"
    }
   ],
   "source": [
    "# Bar plot representing accuracy of different models\n",
    "model_names = ['KNN', 'Decision Tree', 'Random Forest', 'Logistic Regression']\n",
    "accuracies = [knn_classifier.score(X_test, y_test),\n",
    "              dt_classifier.score(X_test, y_test),\n",
    "              rf_classifier.score(X_test, y_test),\n",
    "              logistic_reg.score(X_test, y_test)]\n",
    "\n",
    "plt.figure(figsize=(10, 6))\n",
    "plt.title(\"Accuracy of Different Models\")\n",
    "plt.xlabel(\"Algorithms\")\n",
    "plt.ylabel(\"Accuracy %\")\n",
    "\n",
    "# Bar plot with accuracy values\n",
    "bars = plt.bar(model_names, accuracies, color=['red', 'green', 'blue', 'gold'])\n",
    "\n",
    "# Annotate each bar with its accuracy value\n",
    "for bar, accuracy in zip(bars, accuracies):\n",
    "    plt.text(bar.get_x() + bar.get_width() / 2, bar.get_height(), f'{accuracy*100:.2f}%',\n",
    "             ha='center', va='bottom', fontsize=10, color='black')\n",
    "\n",
    "# Show the plot\n",
    "plt.tight_layout()\n",
    "plt.show()\n"
   ]
  },
  {
   "cell_type": "markdown",
   "id": "71c55c9a-ee5d-4d00-a539-2d9c38d4581a",
   "metadata": {},
   "source": [
    "#### The model did not shown any major improvement rather than Logistic regression got better. Need to reenginearing to get better outcome.Testing with sectional analysis Model."
   ]
  },
  {
   "cell_type": "markdown",
   "id": "dc8b87c1-2149-42af-95f6-55c8b849fe1f",
   "metadata": {},
   "source": []
  },
  {
   "cell_type": "code",
   "execution_count": null,
   "id": "667bbc93-738a-4116-bcef-3f07297f9a2b",
   "metadata": {},
   "outputs": [],
   "source": []
  },
  {
   "cell_type": "code",
   "execution_count": null,
   "id": "a1caf220-3b1f-4229-8500-5c19a50ff34c",
   "metadata": {},
   "outputs": [],
   "source": []
  },
  {
   "cell_type": "code",
   "execution_count": null,
   "id": "e396be75-2855-461d-b0c1-79fc1bdf92c9",
   "metadata": {},
   "outputs": [],
   "source": []
  },
  {
   "cell_type": "code",
   "execution_count": null,
   "id": "128b82c6-ecf0-4aef-a274-9e5bfbea9ac5",
   "metadata": {},
   "outputs": [],
   "source": []
  },
  {
   "cell_type": "code",
   "execution_count": null,
   "id": "71a19dff-7af0-442e-b5f9-2bf27abb0fe7",
   "metadata": {},
   "outputs": [],
   "source": []
  },
  {
   "cell_type": "code",
   "execution_count": null,
   "id": "2d63096c-b199-4c43-bc59-f3e01739038d",
   "metadata": {},
   "outputs": [],
   "source": []
  },
  {
   "cell_type": "code",
   "execution_count": null,
   "id": "ad09ef7f-f538-4d11-8fe6-f9da45998c49",
   "metadata": {},
   "outputs": [],
   "source": []
  },
  {
   "cell_type": "code",
   "execution_count": null,
   "id": "910edb2b-d925-4d4d-9925-a8a6cecfa1af",
   "metadata": {},
   "outputs": [],
   "source": []
  },
  {
   "cell_type": "code",
   "execution_count": null,
   "id": "f62115b5-aada-404f-8cec-584800425728",
   "metadata": {},
   "outputs": [],
   "source": []
  },
  {
   "cell_type": "code",
   "execution_count": null,
   "id": "fff68f38-e0d2-44ac-b4e4-1203655eeac1",
   "metadata": {},
   "outputs": [],
   "source": []
  },
  {
   "cell_type": "code",
   "execution_count": null,
   "id": "d4cd223a-171a-464f-8019-40416fe41639",
   "metadata": {},
   "outputs": [],
   "source": []
  },
  {
   "cell_type": "code",
   "execution_count": null,
   "id": "fa27f6ff-c6c0-4797-96b1-258c5e2d4bd5",
   "metadata": {},
   "outputs": [],
   "source": []
  }
 ],
 "metadata": {
  "kernelspec": {
   "display_name": "Python 3 (ipykernel)",
   "language": "python",
   "name": "python3"
  },
  "language_info": {
   "codemirror_mode": {
    "name": "ipython",
    "version": 3
   },
   "file_extension": ".py",
   "mimetype": "text/x-python",
   "name": "python",
   "nbconvert_exporter": "python",
   "pygments_lexer": "ipython3",
   "version": "3.11.3"
  }
 },
 "nbformat": 4,
 "nbformat_minor": 5
}
