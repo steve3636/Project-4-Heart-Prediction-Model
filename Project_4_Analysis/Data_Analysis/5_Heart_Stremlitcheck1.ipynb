{
 "cells": [
  {
   "cell_type": "code",
   "execution_count": 21,
   "id": "46595659-ea97-49c7-ac33-c0689f2cb60b",
   "metadata": {
    "tags": []
   },
   "outputs": [
    {
     "name": "stdout",
     "output_type": "stream",
     "text": [
      "Accuracy of the Gradient Boosting model: 0.64\n"
     ]
    }
   ],
   "source": [
    "import pandas as pd\n",
    "from sklearn.ensemble import GradientBoostingClassifier\n",
    "from sklearn.model_selection import train_test_split\n",
    "from sklearn.metrics import accuracy_score\n",
    "import os\n",
    "\n",
    "# Load your dataset\n",
    "file_path = '../Data_Analysis/stdz_data.csv'\n",
    "data = pd.read_csv(file_path)\n",
    "\n",
    "# Assuming 'features' contains the features and 'target' contains the target variable\n",
    "features = data[['Sedentary Hours Per Day', 'BMI', 'Exercise Hours Per Week', 'Income']]\n",
    "target = data['Heart Attack Risk']\n",
    "\n",
    "# Split the data into training and testing sets\n",
    "X_train, X_test, y_train, y_test = train_test_split(features, target, test_size=0.2, random_state=42)\n",
    "\n",
    "# Train the Gradient Boosting model\n",
    "gb_model = GradientBoostingClassifier(n_estimators=100, learning_rate=0.1, max_depth=3, random_state=42)\n",
    "gb_model.fit(X_train, y_train)\n",
    "\n",
    "# Make predictions on the test set\n",
    "predictions = gb_model.predict(X_test)\n",
    "\n",
    "# Calculate accuracy on the test set\n",
    "accuracy = accuracy_score(y_test, predictions)\n",
    "print(f\"Accuracy of the Gradient Boosting model: {accuracy:.2f}\")\n",
    "\n",
    "# Trained model for predictions on new data\n",
    "# Predict on the entire dataset:\n",
    "all_predictions = gb_model.predict(features)\n",
    "data['Predicted_Heart_Attack_Risk'] = all_predictions\n",
    "\n",
    "\n",
    "directory = 'Data_Analysis'\n",
    "if not os.path.exists(directory):\n",
    "    os.makedirs(directory)\n",
    "\n",
    "# Save the updated dataset \n",
    "updated_file_path = os.path.join(directory, 'stdz_data_with_predictions.csv')\n",
    "data.to_csv(updated_file_path, index=False)\n"
   ]
  },
  {
   "cell_type": "code",
   "execution_count": 23,
   "id": "17f17310-c666-47c0-97ca-689748b399f5",
   "metadata": {
    "tags": []
   },
   "outputs": [],
   "source": [
    "# data.info()"
   ]
  },
  {
   "cell_type": "code",
   "execution_count": 17,
   "id": "d3bca71d-9b8a-445f-a166-4d5127614bde",
   "metadata": {},
   "outputs": [
    {
     "name": "stdout",
     "output_type": "stream",
     "text": [
      "<class 'pandas.core.frame.DataFrame'>\n",
      "RangeIndex: 8763 entries, 0 to 8762\n",
      "Data columns (total 6 columns):\n",
      " #   Column                       Non-Null Count  Dtype  \n",
      "---  ------                       --------------  -----  \n",
      " 0   Sedentary Hours Per Day      8763 non-null   float64\n",
      " 1   BMI                          8763 non-null   float64\n",
      " 2   Exercise Hours Per Week      8763 non-null   float64\n",
      " 3   Cholesterol                  8763 non-null   float64\n",
      " 4   Heart Attack Risk            8763 non-null   int64  \n",
      " 5   Predicted_Heart_Attack_Risk  8763 non-null   int64  \n",
      "dtypes: float64(4), int64(2)\n",
      "memory usage: 410.9 KB\n"
     ]
    }
   ],
   "source": [
    "df = data[['Sedentary Hours Per Day', 'BMI', 'Exercise Hours Per Week', 'Cholesterol','Heart Attack Risk','Predicted_Heart_Attack_Risk']]\n",
    "# df.to_csv(\"Heart_SQL.csv\", index = False)\n",
    "df.info()"
   ]
  },
  {
   "cell_type": "code",
   "execution_count": 18,
   "id": "1d0e3145-b2a9-4b69-b38c-571f8819f3d7",
   "metadata": {
    "tags": []
   },
   "outputs": [
    {
     "data": {
      "text/plain": [
       "['gradient_boosting_model.joblib']"
      ]
     },
     "execution_count": 18,
     "metadata": {},
     "output_type": "execute_result"
    }
   ],
   "source": [
    "from joblib import dump\n",
    "\n",
    "# Save the trained Gradient Boosting model\n",
    "model_file_path = 'gradient_boosting_model.joblib'\n",
    "dump(gb_model, model_file_path)\n"
   ]
  },
  {
   "cell_type": "code",
   "execution_count": 19,
   "id": "5e698b33-5f05-4bd2-bbd8-b0dff71bba54",
   "metadata": {
    "tags": []
   },
   "outputs": [
    {
     "name": "stderr",
     "output_type": "stream",
     "text": [
      "C:\\Users\\steve\\anaconda3\\Lib\\site-packages\\sklearn\\base.py:465: UserWarning: X does not have valid feature names, but GradientBoostingClassifier was fitted with feature names\n",
      "  warnings.warn(\n"
     ]
    }
   ],
   "source": [
    "import streamlit as st\n",
    "from joblib import load\n",
    "import numpy as np\n",
    "import pandas as pd\n",
    "\n",
    "# Load the pre-trained Gradient Boosting model\n",
    "gb_model = load('gradient_boosting_model.joblib')  \n",
    "\n",
    "# Streamlit app structure\n",
    "def main():\n",
    "    st.title('Heart Attack Risk Prediction')\n",
    "    st.sidebar.title('Features')\n",
    "\n",
    "    # Sidebar - User input features\n",
    "    sedentary_hours = st.sidebar.slider('Sedentary Hours Per Day', 0, 24, 8, 1)\n",
    "    bmi = st.sidebar.slider('BMI', 10, 50, 25, 1)\n",
    "    exercise_hours = st.sidebar.slider('Exercise Hours Per Week', 0, 40, 3, 1)\n",
    "    income = st.sidebar.slider('Income', 0, 200000, 50000, 500)\n",
    "\n",
    "    # Make predictions using the loaded model\n",
    "    user_input = np.array([[sedentary_hours, bmi, exercise_hours, income]])\n",
    "    prediction = gb_model.predict(user_input)\n",
    "\n",
    "    # Display prediction result\n",
    "    st.write('Predicted Heart Attack Risk:', prediction[0])\n",
    "\n",
    "if __name__ == '__main__':\n",
    "    main()\n"
   ]
  },
  {
   "cell_type": "code",
   "execution_count": null,
   "id": "72ffdc20-20ce-459c-9f83-e94f67ef8b50",
   "metadata": {},
   "outputs": [],
   "source": []
  }
 ],
 "metadata": {
  "kernelspec": {
   "display_name": "Python 3 (ipykernel)",
   "language": "python",
   "name": "python3"
  },
  "language_info": {
   "codemirror_mode": {
    "name": "ipython",
    "version": 3
   },
   "file_extension": ".py",
   "mimetype": "text/x-python",
   "name": "python",
   "nbconvert_exporter": "python",
   "pygments_lexer": "ipython3",
   "version": "3.11.3"
  }
 },
 "nbformat": 4,
 "nbformat_minor": 5
}
